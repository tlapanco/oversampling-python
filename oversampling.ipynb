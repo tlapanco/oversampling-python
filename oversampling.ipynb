{
  "cells": [
    {
      "cell_type": "markdown",
      "id": "b15a1b10",
      "metadata": {
        "id": "b15a1b10"
      },
      "source": [
        "# Técnica de sobremuestreo"
      ]
    },
    {
      "cell_type": "markdown",
      "id": "12d5cd75",
      "metadata": {
        "id": "12d5cd75"
      },
      "source": [
        "\n",
        "\n",
        "1. Importacion de librerias:"
      ]
    },
    {
      "cell_type": "code",
      "execution_count": 1,
      "id": "e42f59fd",
      "metadata": {
        "id": "e42f59fd"
      },
      "outputs": [],
      "source": [
        "import pandas as pd\n",
        "#import matplotlib as plt\n",
        "#from collab\n",
        "import matplotlib.pyplot as plt\n",
        "import seaborn as sns"
      ]
    },
    {
      "cell_type": "markdown",
      "id": "652db4fc",
      "metadata": {
        "id": "652db4fc"
      },
      "source": [
        "2. Lectura de nuestro conjunto de datos. Obtenidos de los relsultados de estudios de Cancer de prostata"
      ]
    },
    {
      "cell_type": "code",
      "execution_count": 2,
      "id": "d3481689",
      "metadata": {
        "id": "d3481689"
      },
      "outputs": [],
      "source": [
        "df = pd.read_csv('Prostate_Cancer.csv')"
      ]
    },
    {
      "cell_type": "markdown",
      "id": "541fc62c",
      "metadata": {
        "id": "541fc62c"
      },
      "source": [
        "3. Previsualizacion de nuestro conjunto de datos"
      ]
    },
    {
      "cell_type": "code",
      "execution_count": 3,
      "id": "d2e40a03",
      "metadata": {
        "colab": {
          "base_uri": "https://localhost:8080/",
          "height": 206
        },
        "id": "d2e40a03",
        "outputId": "3c7412a5-9e9f-4057-dd71-c54bd430375a"
      },
      "outputs": [
        {
          "output_type": "execute_result",
          "data": {
            "text/plain": [
              "   id diagnosis_result  radius  texture  perimeter  area  smoothness  \\\n",
              "0   1                M      23       12        151   954       0.143   \n",
              "1   2                B       9       13        133  1326       0.143   \n",
              "2   3                M      21       27        130  1203       0.125   \n",
              "3   4                M      14       16         78   386       0.070   \n",
              "4   5                M       9       19        135  1297       0.141   \n",
              "\n",
              "   compactness  symmetry  fractal_dimension  \n",
              "0        0.278     0.242              0.079  \n",
              "1        0.079     0.181              0.057  \n",
              "2        0.160     0.207              0.060  \n",
              "3        0.284     0.260              0.097  \n",
              "4        0.133     0.181              0.059  "
            ],
            "text/html": [
              "\n",
              "  <div id=\"df-b84ea281-bd1a-4e24-9617-a7a8b433cf89\" class=\"colab-df-container\">\n",
              "    <div>\n",
              "<style scoped>\n",
              "    .dataframe tbody tr th:only-of-type {\n",
              "        vertical-align: middle;\n",
              "    }\n",
              "\n",
              "    .dataframe tbody tr th {\n",
              "        vertical-align: top;\n",
              "    }\n",
              "\n",
              "    .dataframe thead th {\n",
              "        text-align: right;\n",
              "    }\n",
              "</style>\n",
              "<table border=\"1\" class=\"dataframe\">\n",
              "  <thead>\n",
              "    <tr style=\"text-align: right;\">\n",
              "      <th></th>\n",
              "      <th>id</th>\n",
              "      <th>diagnosis_result</th>\n",
              "      <th>radius</th>\n",
              "      <th>texture</th>\n",
              "      <th>perimeter</th>\n",
              "      <th>area</th>\n",
              "      <th>smoothness</th>\n",
              "      <th>compactness</th>\n",
              "      <th>symmetry</th>\n",
              "      <th>fractal_dimension</th>\n",
              "    </tr>\n",
              "  </thead>\n",
              "  <tbody>\n",
              "    <tr>\n",
              "      <th>0</th>\n",
              "      <td>1</td>\n",
              "      <td>M</td>\n",
              "      <td>23</td>\n",
              "      <td>12</td>\n",
              "      <td>151</td>\n",
              "      <td>954</td>\n",
              "      <td>0.143</td>\n",
              "      <td>0.278</td>\n",
              "      <td>0.242</td>\n",
              "      <td>0.079</td>\n",
              "    </tr>\n",
              "    <tr>\n",
              "      <th>1</th>\n",
              "      <td>2</td>\n",
              "      <td>B</td>\n",
              "      <td>9</td>\n",
              "      <td>13</td>\n",
              "      <td>133</td>\n",
              "      <td>1326</td>\n",
              "      <td>0.143</td>\n",
              "      <td>0.079</td>\n",
              "      <td>0.181</td>\n",
              "      <td>0.057</td>\n",
              "    </tr>\n",
              "    <tr>\n",
              "      <th>2</th>\n",
              "      <td>3</td>\n",
              "      <td>M</td>\n",
              "      <td>21</td>\n",
              "      <td>27</td>\n",
              "      <td>130</td>\n",
              "      <td>1203</td>\n",
              "      <td>0.125</td>\n",
              "      <td>0.160</td>\n",
              "      <td>0.207</td>\n",
              "      <td>0.060</td>\n",
              "    </tr>\n",
              "    <tr>\n",
              "      <th>3</th>\n",
              "      <td>4</td>\n",
              "      <td>M</td>\n",
              "      <td>14</td>\n",
              "      <td>16</td>\n",
              "      <td>78</td>\n",
              "      <td>386</td>\n",
              "      <td>0.070</td>\n",
              "      <td>0.284</td>\n",
              "      <td>0.260</td>\n",
              "      <td>0.097</td>\n",
              "    </tr>\n",
              "    <tr>\n",
              "      <th>4</th>\n",
              "      <td>5</td>\n",
              "      <td>M</td>\n",
              "      <td>9</td>\n",
              "      <td>19</td>\n",
              "      <td>135</td>\n",
              "      <td>1297</td>\n",
              "      <td>0.141</td>\n",
              "      <td>0.133</td>\n",
              "      <td>0.181</td>\n",
              "      <td>0.059</td>\n",
              "    </tr>\n",
              "  </tbody>\n",
              "</table>\n",
              "</div>\n",
              "    <div class=\"colab-df-buttons\">\n",
              "\n",
              "  <div class=\"colab-df-container\">\n",
              "    <button class=\"colab-df-convert\" onclick=\"convertToInteractive('df-b84ea281-bd1a-4e24-9617-a7a8b433cf89')\"\n",
              "            title=\"Convert this dataframe to an interactive table.\"\n",
              "            style=\"display:none;\">\n",
              "\n",
              "  <svg xmlns=\"http://www.w3.org/2000/svg\" height=\"24px\" viewBox=\"0 -960 960 960\">\n",
              "    <path d=\"M120-120v-720h720v720H120Zm60-500h600v-160H180v160Zm220 220h160v-160H400v160Zm0 220h160v-160H400v160ZM180-400h160v-160H180v160Zm440 0h160v-160H620v160ZM180-180h160v-160H180v160Zm440 0h160v-160H620v160Z\"/>\n",
              "  </svg>\n",
              "    </button>\n",
              "\n",
              "  <style>\n",
              "    .colab-df-container {\n",
              "      display:flex;\n",
              "      gap: 12px;\n",
              "    }\n",
              "\n",
              "    .colab-df-convert {\n",
              "      background-color: #E8F0FE;\n",
              "      border: none;\n",
              "      border-radius: 50%;\n",
              "      cursor: pointer;\n",
              "      display: none;\n",
              "      fill: #1967D2;\n",
              "      height: 32px;\n",
              "      padding: 0 0 0 0;\n",
              "      width: 32px;\n",
              "    }\n",
              "\n",
              "    .colab-df-convert:hover {\n",
              "      background-color: #E2EBFA;\n",
              "      box-shadow: 0px 1px 2px rgba(60, 64, 67, 0.3), 0px 1px 3px 1px rgba(60, 64, 67, 0.15);\n",
              "      fill: #174EA6;\n",
              "    }\n",
              "\n",
              "    .colab-df-buttons div {\n",
              "      margin-bottom: 4px;\n",
              "    }\n",
              "\n",
              "    [theme=dark] .colab-df-convert {\n",
              "      background-color: #3B4455;\n",
              "      fill: #D2E3FC;\n",
              "    }\n",
              "\n",
              "    [theme=dark] .colab-df-convert:hover {\n",
              "      background-color: #434B5C;\n",
              "      box-shadow: 0px 1px 3px 1px rgba(0, 0, 0, 0.15);\n",
              "      filter: drop-shadow(0px 1px 2px rgba(0, 0, 0, 0.3));\n",
              "      fill: #FFFFFF;\n",
              "    }\n",
              "  </style>\n",
              "\n",
              "    <script>\n",
              "      const buttonEl =\n",
              "        document.querySelector('#df-b84ea281-bd1a-4e24-9617-a7a8b433cf89 button.colab-df-convert');\n",
              "      buttonEl.style.display =\n",
              "        google.colab.kernel.accessAllowed ? 'block' : 'none';\n",
              "\n",
              "      async function convertToInteractive(key) {\n",
              "        const element = document.querySelector('#df-b84ea281-bd1a-4e24-9617-a7a8b433cf89');\n",
              "        const dataTable =\n",
              "          await google.colab.kernel.invokeFunction('convertToInteractive',\n",
              "                                                    [key], {});\n",
              "        if (!dataTable) return;\n",
              "\n",
              "        const docLinkHtml = 'Like what you see? Visit the ' +\n",
              "          '<a target=\"_blank\" href=https://colab.research.google.com/notebooks/data_table.ipynb>data table notebook</a>'\n",
              "          + ' to learn more about interactive tables.';\n",
              "        element.innerHTML = '';\n",
              "        dataTable['output_type'] = 'display_data';\n",
              "        await google.colab.output.renderOutput(dataTable, element);\n",
              "        const docLink = document.createElement('div');\n",
              "        docLink.innerHTML = docLinkHtml;\n",
              "        element.appendChild(docLink);\n",
              "      }\n",
              "    </script>\n",
              "  </div>\n",
              "\n",
              "\n",
              "<div id=\"df-b58737bd-bf61-4f22-bc83-56aef217fb3a\">\n",
              "  <button class=\"colab-df-quickchart\" onclick=\"quickchart('df-b58737bd-bf61-4f22-bc83-56aef217fb3a')\"\n",
              "            title=\"Suggest charts\"\n",
              "            style=\"display:none;\">\n",
              "\n",
              "<svg xmlns=\"http://www.w3.org/2000/svg\" height=\"24px\"viewBox=\"0 0 24 24\"\n",
              "     width=\"24px\">\n",
              "    <g>\n",
              "        <path d=\"M19 3H5c-1.1 0-2 .9-2 2v14c0 1.1.9 2 2 2h14c1.1 0 2-.9 2-2V5c0-1.1-.9-2-2-2zM9 17H7v-7h2v7zm4 0h-2V7h2v10zm4 0h-2v-4h2v4z\"/>\n",
              "    </g>\n",
              "</svg>\n",
              "  </button>\n",
              "\n",
              "<style>\n",
              "  .colab-df-quickchart {\n",
              "      --bg-color: #E8F0FE;\n",
              "      --fill-color: #1967D2;\n",
              "      --hover-bg-color: #E2EBFA;\n",
              "      --hover-fill-color: #174EA6;\n",
              "      --disabled-fill-color: #AAA;\n",
              "      --disabled-bg-color: #DDD;\n",
              "  }\n",
              "\n",
              "  [theme=dark] .colab-df-quickchart {\n",
              "      --bg-color: #3B4455;\n",
              "      --fill-color: #D2E3FC;\n",
              "      --hover-bg-color: #434B5C;\n",
              "      --hover-fill-color: #FFFFFF;\n",
              "      --disabled-bg-color: #3B4455;\n",
              "      --disabled-fill-color: #666;\n",
              "  }\n",
              "\n",
              "  .colab-df-quickchart {\n",
              "    background-color: var(--bg-color);\n",
              "    border: none;\n",
              "    border-radius: 50%;\n",
              "    cursor: pointer;\n",
              "    display: none;\n",
              "    fill: var(--fill-color);\n",
              "    height: 32px;\n",
              "    padding: 0;\n",
              "    width: 32px;\n",
              "  }\n",
              "\n",
              "  .colab-df-quickchart:hover {\n",
              "    background-color: var(--hover-bg-color);\n",
              "    box-shadow: 0 1px 2px rgba(60, 64, 67, 0.3), 0 1px 3px 1px rgba(60, 64, 67, 0.15);\n",
              "    fill: var(--button-hover-fill-color);\n",
              "  }\n",
              "\n",
              "  .colab-df-quickchart-complete:disabled,\n",
              "  .colab-df-quickchart-complete:disabled:hover {\n",
              "    background-color: var(--disabled-bg-color);\n",
              "    fill: var(--disabled-fill-color);\n",
              "    box-shadow: none;\n",
              "  }\n",
              "\n",
              "  .colab-df-spinner {\n",
              "    border: 2px solid var(--fill-color);\n",
              "    border-color: transparent;\n",
              "    border-bottom-color: var(--fill-color);\n",
              "    animation:\n",
              "      spin 1s steps(1) infinite;\n",
              "  }\n",
              "\n",
              "  @keyframes spin {\n",
              "    0% {\n",
              "      border-color: transparent;\n",
              "      border-bottom-color: var(--fill-color);\n",
              "      border-left-color: var(--fill-color);\n",
              "    }\n",
              "    20% {\n",
              "      border-color: transparent;\n",
              "      border-left-color: var(--fill-color);\n",
              "      border-top-color: var(--fill-color);\n",
              "    }\n",
              "    30% {\n",
              "      border-color: transparent;\n",
              "      border-left-color: var(--fill-color);\n",
              "      border-top-color: var(--fill-color);\n",
              "      border-right-color: var(--fill-color);\n",
              "    }\n",
              "    40% {\n",
              "      border-color: transparent;\n",
              "      border-right-color: var(--fill-color);\n",
              "      border-top-color: var(--fill-color);\n",
              "    }\n",
              "    60% {\n",
              "      border-color: transparent;\n",
              "      border-right-color: var(--fill-color);\n",
              "    }\n",
              "    80% {\n",
              "      border-color: transparent;\n",
              "      border-right-color: var(--fill-color);\n",
              "      border-bottom-color: var(--fill-color);\n",
              "    }\n",
              "    90% {\n",
              "      border-color: transparent;\n",
              "      border-bottom-color: var(--fill-color);\n",
              "    }\n",
              "  }\n",
              "</style>\n",
              "\n",
              "  <script>\n",
              "    async function quickchart(key) {\n",
              "      const quickchartButtonEl =\n",
              "        document.querySelector('#' + key + ' button');\n",
              "      quickchartButtonEl.disabled = true;  // To prevent multiple clicks.\n",
              "      quickchartButtonEl.classList.add('colab-df-spinner');\n",
              "      try {\n",
              "        const charts = await google.colab.kernel.invokeFunction(\n",
              "            'suggestCharts', [key], {});\n",
              "      } catch (error) {\n",
              "        console.error('Error during call to suggestCharts:', error);\n",
              "      }\n",
              "      quickchartButtonEl.classList.remove('colab-df-spinner');\n",
              "      quickchartButtonEl.classList.add('colab-df-quickchart-complete');\n",
              "    }\n",
              "    (() => {\n",
              "      let quickchartButtonEl =\n",
              "        document.querySelector('#df-b58737bd-bf61-4f22-bc83-56aef217fb3a button');\n",
              "      quickchartButtonEl.style.display =\n",
              "        google.colab.kernel.accessAllowed ? 'block' : 'none';\n",
              "    })();\n",
              "  </script>\n",
              "</div>\n",
              "\n",
              "    </div>\n",
              "  </div>\n"
            ],
            "application/vnd.google.colaboratory.intrinsic+json": {
              "type": "dataframe",
              "variable_name": "df",
              "summary": "{\n  \"name\": \"df\",\n  \"rows\": 100,\n  \"fields\": [\n    {\n      \"column\": \"id\",\n      \"properties\": {\n        \"dtype\": \"number\",\n        \"std\": 29,\n        \"min\": 1,\n        \"max\": 100,\n        \"num_unique_values\": 100,\n        \"samples\": [\n          84,\n          54,\n          71\n        ],\n        \"semantic_type\": \"\",\n        \"description\": \"\"\n      }\n    },\n    {\n      \"column\": \"diagnosis_result\",\n      \"properties\": {\n        \"dtype\": \"category\",\n        \"num_unique_values\": 2,\n        \"samples\": [\n          \"B\",\n          \"M\"\n        ],\n        \"semantic_type\": \"\",\n        \"description\": \"\"\n      }\n    },\n    {\n      \"column\": \"radius\",\n      \"properties\": {\n        \"dtype\": \"number\",\n        \"std\": 4,\n        \"min\": 9,\n        \"max\": 25,\n        \"num_unique_values\": 16,\n        \"samples\": [\n          23,\n          9\n        ],\n        \"semantic_type\": \"\",\n        \"description\": \"\"\n      }\n    },\n    {\n      \"column\": \"texture\",\n      \"properties\": {\n        \"dtype\": \"number\",\n        \"std\": 5,\n        \"min\": 11,\n        \"max\": 27,\n        \"num_unique_values\": 17,\n        \"samples\": [\n          12,\n          13\n        ],\n        \"semantic_type\": \"\",\n        \"description\": \"\"\n      }\n    },\n    {\n      \"column\": \"perimeter\",\n      \"properties\": {\n        \"dtype\": \"number\",\n        \"std\": 23,\n        \"min\": 52,\n        \"max\": 172,\n        \"num_unique_values\": 55,\n        \"samples\": [\n          72,\n          83\n        ],\n        \"semantic_type\": \"\",\n        \"description\": \"\"\n      }\n    },\n    {\n      \"column\": \"area\",\n      \"properties\": {\n        \"dtype\": \"number\",\n        \"std\": 319,\n        \"min\": 202,\n        \"max\": 1878,\n        \"num_unique_values\": 95,\n        \"samples\": [\n          1130,\n          905\n        ],\n        \"semantic_type\": \"\",\n        \"description\": \"\"\n      }\n    },\n    {\n      \"column\": \"smoothness\",\n      \"properties\": {\n        \"dtype\": \"number\",\n        \"std\": 0.014641752254798919,\n        \"min\": 0.07,\n        \"max\": 0.143,\n        \"num_unique_values\": 45,\n        \"samples\": [\n          0.124,\n          0.104\n        ],\n        \"semantic_type\": \"\",\n        \"description\": \"\"\n      }\n    },\n    {\n      \"column\": \"compactness\",\n      \"properties\": {\n        \"dtype\": \"number\",\n        \"std\": 0.06114356346775475,\n        \"min\": 0.038,\n        \"max\": 0.345,\n        \"num_unique_values\": 85,\n        \"samples\": [\n          0.086,\n          0.278\n        ],\n        \"semantic_type\": \"\",\n        \"description\": \"\"\n      }\n    },\n    {\n      \"column\": \"symmetry\",\n      \"properties\": {\n        \"dtype\": \"number\",\n        \"std\": 0.030785033422562377,\n        \"min\": 0.135,\n        \"max\": 0.304,\n        \"num_unique_values\": 64,\n        \"samples\": [\n          0.215,\n          0.169\n        ],\n        \"semantic_type\": \"\",\n        \"description\": \"\"\n      }\n    },\n    {\n      \"column\": \"fractal_dimension\",\n      \"properties\": {\n        \"dtype\": \"number\",\n        \"std\": 0.008150968214162219,\n        \"min\": 0.053,\n        \"max\": 0.097,\n        \"num_unique_values\": 32,\n        \"samples\": [\n          0.08,\n          0.058\n        ],\n        \"semantic_type\": \"\",\n        \"description\": \"\"\n      }\n    }\n  ]\n}"
            }
          },
          "metadata": {},
          "execution_count": 3
        }
      ],
      "source": [
        "df.head()"
      ]
    },
    {
      "cell_type": "markdown",
      "id": "1e6851c2",
      "metadata": {
        "id": "1e6851c2"
      },
      "source": [
        "4. Conteo de filas y columnas de nuestro conjunto de datos"
      ]
    },
    {
      "cell_type": "code",
      "execution_count": 4,
      "id": "1dbd3863",
      "metadata": {
        "colab": {
          "base_uri": "https://localhost:8080/"
        },
        "id": "1dbd3863",
        "outputId": "0aa5c6ee-090b-4d34-c76d-2dfc2b138412"
      },
      "outputs": [
        {
          "output_type": "execute_result",
          "data": {
            "text/plain": [
              "(100, 10)"
            ]
          },
          "metadata": {},
          "execution_count": 4
        }
      ],
      "source": [
        "df.shape"
      ]
    },
    {
      "cell_type": "markdown",
      "id": "81d650ec",
      "metadata": {
        "id": "81d650ec"
      },
      "source": [
        "5. Conteo de clases \"diagnosis_result\""
      ]
    },
    {
      "cell_type": "code",
      "execution_count": 5,
      "id": "9094cb3b",
      "metadata": {
        "colab": {
          "base_uri": "https://localhost:8080/",
          "height": 178
        },
        "id": "9094cb3b",
        "outputId": "35315ab4-f8d1-405b-8c98-2b5fa92fcb2f"
      },
      "outputs": [
        {
          "output_type": "execute_result",
          "data": {
            "text/plain": [
              "diagnosis_result\n",
              "M    62\n",
              "B    38\n",
              "Name: count, dtype: int64"
            ],
            "text/html": [
              "<div>\n",
              "<style scoped>\n",
              "    .dataframe tbody tr th:only-of-type {\n",
              "        vertical-align: middle;\n",
              "    }\n",
              "\n",
              "    .dataframe tbody tr th {\n",
              "        vertical-align: top;\n",
              "    }\n",
              "\n",
              "    .dataframe thead th {\n",
              "        text-align: right;\n",
              "    }\n",
              "</style>\n",
              "<table border=\"1\" class=\"dataframe\">\n",
              "  <thead>\n",
              "    <tr style=\"text-align: right;\">\n",
              "      <th></th>\n",
              "      <th>count</th>\n",
              "    </tr>\n",
              "    <tr>\n",
              "      <th>diagnosis_result</th>\n",
              "      <th></th>\n",
              "    </tr>\n",
              "  </thead>\n",
              "  <tbody>\n",
              "    <tr>\n",
              "      <th>M</th>\n",
              "      <td>62</td>\n",
              "    </tr>\n",
              "    <tr>\n",
              "      <th>B</th>\n",
              "      <td>38</td>\n",
              "    </tr>\n",
              "  </tbody>\n",
              "</table>\n",
              "</div><br><label><b>dtype:</b> int64</label>"
            ]
          },
          "metadata": {},
          "execution_count": 5
        }
      ],
      "source": [
        "df.diagnosis_result.value_counts()"
      ]
    },
    {
      "cell_type": "markdown",
      "id": "5c052750",
      "metadata": {
        "id": "5c052750"
      },
      "source": [
        "6. Proporcion de nuestras clases en porcentaje"
      ]
    },
    {
      "cell_type": "code",
      "execution_count": 6,
      "id": "c0ae2b92",
      "metadata": {
        "colab": {
          "base_uri": "https://localhost:8080/",
          "height": 178
        },
        "id": "c0ae2b92",
        "outputId": "869f0989-564c-404c-c1ff-f0affb02b067"
      },
      "outputs": [
        {
          "output_type": "execute_result",
          "data": {
            "text/plain": [
              "diagnosis_result\n",
              "M    0.62\n",
              "B    0.38\n",
              "Name: count, dtype: float64"
            ],
            "text/html": [
              "<div>\n",
              "<style scoped>\n",
              "    .dataframe tbody tr th:only-of-type {\n",
              "        vertical-align: middle;\n",
              "    }\n",
              "\n",
              "    .dataframe tbody tr th {\n",
              "        vertical-align: top;\n",
              "    }\n",
              "\n",
              "    .dataframe thead th {\n",
              "        text-align: right;\n",
              "    }\n",
              "</style>\n",
              "<table border=\"1\" class=\"dataframe\">\n",
              "  <thead>\n",
              "    <tr style=\"text-align: right;\">\n",
              "      <th></th>\n",
              "      <th>count</th>\n",
              "    </tr>\n",
              "    <tr>\n",
              "      <th>diagnosis_result</th>\n",
              "      <th></th>\n",
              "    </tr>\n",
              "  </thead>\n",
              "  <tbody>\n",
              "    <tr>\n",
              "      <th>M</th>\n",
              "      <td>0.62</td>\n",
              "    </tr>\n",
              "    <tr>\n",
              "      <th>B</th>\n",
              "      <td>0.38</td>\n",
              "    </tr>\n",
              "  </tbody>\n",
              "</table>\n",
              "</div><br><label><b>dtype:</b> float64</label>"
            ]
          },
          "metadata": {},
          "execution_count": 6
        }
      ],
      "source": [
        "df.diagnosis_result.value_counts()/df.shape[0]"
      ]
    },
    {
      "cell_type": "markdown",
      "id": "e40b34eb",
      "metadata": {
        "id": "e40b34eb"
      },
      "source": [
        "7. Vizualicacion gráfica de el conteo de nuestras clases"
      ]
    },
    {
      "cell_type": "code",
      "execution_count": 7,
      "id": "8a3f405f",
      "metadata": {
        "colab": {
          "base_uri": "https://localhost:8080/",
          "height": 424
        },
        "id": "8a3f405f",
        "outputId": "72808a35-ba75-464a-8044-93dcf8c386e2"
      },
      "outputs": [
        {
          "output_type": "execute_result",
          "data": {
            "text/plain": [
              "<seaborn.axisgrid.FacetGrid at 0x79b2a88b2380>"
            ]
          },
          "metadata": {},
          "execution_count": 7
        },
        {
          "output_type": "display_data",
          "data": {
            "text/plain": [
              "<Figure size 522.986x400 with 1 Axes>"
            ],
            "image/png": "[encoded data removed]"
          },
          "metadata": {}
        }
      ],
      "source": [
        "sns.displot(data=df, x=\"diagnosis_result\", hue=\"diagnosis_result\", height=4)"
      ]
    },
    {
      "cell_type": "markdown",
      "id": "f099ad17",
      "metadata": {
        "id": "f099ad17"
      },
      "source": [
        "## Entrenamiento de nuestro modelo"
      ]
    },
    {
      "cell_type": "markdown",
      "id": "68be650b",
      "metadata": {
        "id": "68be650b"
      },
      "source": [
        "1. Importación de nuestras librerias"
      ]
    },
    {
      "cell_type": "code",
      "execution_count": 8,
      "id": "5d2af70e",
      "metadata": {
        "id": "5d2af70e"
      },
      "outputs": [],
      "source": [
        "from sklearn.tree import DecisionTreeClassifier\n",
        "from sklearn.model_selection import train_test_split\n",
        "from sklearn.metrics import classification_report, confusion_matrix, accuracy_score"
      ]
    },
    {
      "cell_type": "markdown",
      "id": "3bff108c",
      "metadata": {
        "id": "3bff108c"
      },
      "source": [
        "2. Separacion predictora y predicha de nuestro dataset"
      ]
    },
    {
      "cell_type": "code",
      "execution_count": 9,
      "id": "0066d9f0",
      "metadata": {
        "id": "0066d9f0"
      },
      "outputs": [],
      "source": [
        "#Variables independientes\n",
        "xp = df.drop('diagnosis_result', axis=1)\n",
        "#Variables dependientes\n",
        "yp = df['diagnosis_result']"
      ]
    },
    {
      "cell_type": "markdown",
      "id": "44b2ac0b",
      "metadata": {
        "id": "44b2ac0b"
      },
      "source": [
        "3. Partición de datos: Creación de muestras de entrenamiento y prueba"
      ]
    },
    {
      "cell_type": "code",
      "execution_count": 10,
      "id": "d4f1e5da",
      "metadata": {
        "id": "d4f1e5da"
      },
      "outputs": [],
      "source": [
        "x_train, x_test, y_train, y_test = train_test_split(xp, yp, test_size=0.2)"
      ]
    },
    {
      "cell_type": "markdown",
      "id": "85ecc57a",
      "metadata": {
        "id": "85ecc57a"
      },
      "source": [
        "4. Visualización de los tamaños de nuestros conjuntos de entrenamiento y prueba:  x, y"
      ]
    },
    {
      "cell_type": "code",
      "execution_count": 11,
      "id": "396922b9",
      "metadata": {
        "colab": {
          "base_uri": "https://localhost:8080/"
        },
        "id": "396922b9",
        "outputId": "e5a56542-f419-4ada-9533-605bd7ab04f3"
      },
      "outputs": [
        {
          "output_type": "execute_result",
          "data": {
            "text/plain": [
              "((80, 9), (80,), (20, 9), (20,))"
            ]
          },
          "metadata": {},
          "execution_count": 11
        }
      ],
      "source": [
        "x_train.shape, y_train.shape, x_test.shape, y_test.shape"
      ]
    },
    {
      "cell_type": "markdown",
      "id": "721e39e4",
      "metadata": {
        "id": "721e39e4"
      },
      "source": [
        "5. Creación de nuestro arbol de decisión de clasificación"
      ]
    },
    {
      "cell_type": "code",
      "execution_count": 12,
      "id": "99d0ffc5",
      "metadata": {
        "id": "99d0ffc5"
      },
      "outputs": [],
      "source": [
        "tree_classification = DecisionTreeClassifier()\n",
        "tree_model = tree_classification.fit(x_train, y_train)\n",
        "y_predict = tree_model.predict(x_test)"
      ]
    },
    {
      "cell_type": "markdown",
      "id": "5e957828",
      "metadata": {
        "id": "5e957828"
      },
      "source": [
        "6. Calculo de clasificación con los datos actuales"
      ]
    },
    {
      "cell_type": "code",
      "execution_count": 13,
      "id": "2772c510",
      "metadata": {
        "colab": {
          "base_uri": "https://localhost:8080/"
        },
        "id": "2772c510",
        "outputId": "9d95a32d-e6dc-4d6a-b903-d250345799b0"
      },
      "outputs": [
        {
          "output_type": "execute_result",
          "data": {
            "text/plain": [
              "0.8"
            ]
          },
          "metadata": {},
          "execution_count": 13
        }
      ],
      "source": [
        "accuracy_score(y_test, y_predict)"
      ]
    },
    {
      "cell_type": "code",
      "execution_count": 14,
      "id": "83d10c9e",
      "metadata": {
        "colab": {
          "base_uri": "https://localhost:8080/"
        },
        "id": "83d10c9e",
        "outputId": "e51bca0d-91c9-4789-b9c0-35ea9a0b4eb8"
      },
      "outputs": [
        {
          "output_type": "stream",
          "name": "stdout",
          "text": [
            "              precision    recall  f1-score   support\n",
            "\n",
            "           B       0.86      0.67      0.75         9\n",
            "           M       0.77      0.91      0.83        11\n",
            "\n",
            "    accuracy                           0.80        20\n",
            "   macro avg       0.81      0.79      0.79        20\n",
            "weighted avg       0.81      0.80      0.80        20\n",
            "\n"
          ]
        }
      ],
      "source": [
        "print(classification_report(y_test, y_predict))"
      ]
    },
    {
      "cell_type": "markdown",
      "id": "1aa2b9fd",
      "metadata": {
        "id": "1aa2b9fd"
      },
      "source": [
        "7. Visualización de nuestra matriz de confusión"
      ]
    },
    {
      "cell_type": "code",
      "execution_count": 15,
      "id": "bd220962",
      "metadata": {
        "colab": {
          "base_uri": "https://localhost:8080/",
          "height": 543
        },
        "id": "bd220962",
        "outputId": "512f6277-7f94-48e6-ebfb-d1dcf42781fd"
      },
      "outputs": [
        {
          "output_type": "stream",
          "name": "stderr",
          "text": [
            "<ipython-input-15-f97ede4dc052>:7: UserWarning: set_ticklabels() should only be used with a fixed number of ticks, i.e. after set_ticks() or using a FixedLocator.\n",
            "  ax.set_xticklabels(['']+labels)\n",
            "<ipython-input-15-f97ede4dc052>:8: UserWarning: set_ticklabels() should only be used with a fixed number of ticks, i.e. after set_ticks() or using a FixedLocator.\n",
            "  ax.set_yticklabels(['']+labels)\n"
          ]
        },
        {
          "output_type": "display_data",
          "data": {
            "text/plain": [
              "<Figure size 640x480 with 2 Axes>"
            ],
            "image/png": "[encoded data removed]"
          },
          "metadata": {}
        }
      ],
      "source": [
        "conf_mat = confusion_matrix(y_true=y_test, y_pred=y_predict)\n",
        "labels = ['Class M', 'Class B']\n",
        "figure = plt.figure()\n",
        "ax = figure.add_subplot(111)\n",
        "cax = ax.matshow(conf_mat, cmap=plt.cm.Blues)\n",
        "figure.colorbar(cax)\n",
        "ax.set_xticklabels(['']+labels)\n",
        "ax.set_yticklabels(['']+labels)\n",
        "plt.xlabel('Predicted')\n",
        "plt.ylabel('Expected')\n",
        "plt.show()"
      ]
    },
    {
      "cell_type": "markdown",
      "id": "71134a78",
      "metadata": {
        "id": "71134a78"
      },
      "source": [
        "## Sobremuestreo (Oversampling)"
      ]
    },
    {
      "cell_type": "markdown",
      "id": "7ac1f49b",
      "metadata": {
        "id": "7ac1f49b"
      },
      "source": [
        "1. Conteo y guardado del numero de filas de  nuestras clases: M, B"
      ]
    },
    {
      "cell_type": "code",
      "execution_count": 16,
      "id": "01bea73c",
      "metadata": {
        "colab": {
          "base_uri": "https://localhost:8080/"
        },
        "id": "01bea73c",
        "outputId": "6970d53f-9a8b-4364-e454-8ef7f27676e4"
      },
      "outputs": [
        {
          "output_type": "stream",
          "name": "stdout",
          "text": [
            "Numero de filas por clase: \n",
            "clase M:  62\n",
            "clase B:  38\n"
          ]
        }
      ],
      "source": [
        "count_class_M, count_class_B =df.diagnosis_result.value_counts()\n",
        "print('Numero de filas por clase: ')\n",
        "print('clase M: ', count_class_M)\n",
        "print('clase B: ', count_class_B)"
      ]
    },
    {
      "cell_type": "markdown",
      "id": "370e9103",
      "metadata": {
        "id": "370e9103"
      },
      "source": [
        "2. División y guardado de los datasets por clases: M, B"
      ]
    },
    {
      "cell_type": "code",
      "execution_count": 17,
      "id": "1de14efe",
      "metadata": {
        "id": "1de14efe"
      },
      "outputs": [],
      "source": [
        "df_class_M = df[df['diagnosis_result'] == 'M']\n",
        "df_class_B = df[df['diagnosis_result'] == 'B']\n"
      ]
    },
    {
      "cell_type": "code",
      "execution_count": 18,
      "id": "d51ebcd9",
      "metadata": {
        "colab": {
          "base_uri": "https://localhost:8080/"
        },
        "id": "d51ebcd9",
        "outputId": "c0fda8d7-2012-421a-a2cb-301cd9040224"
      },
      "outputs": [
        {
          "output_type": "stream",
          "name": "stdout",
          "text": [
            "Dimensiónes por tipo de clase: \n",
            "Dimensión clase M (62, 10)\n",
            "Dimensión clase B (38, 10)\n"
          ]
        }
      ],
      "source": [
        "print('Dimensiónes por tipo de clase: ')\n",
        "print('Dimensión clase M', df_class_M.shape)\n",
        "print('Dimensión clase B', df_class_B.shape)"
      ]
    },
    {
      "cell_type": "markdown",
      "id": "54707b27",
      "metadata": {
        "id": "54707b27"
      },
      "source": [
        "3. Creación y guardado de  dataset con sobremuestreo de la clase: B"
      ]
    },
    {
      "cell_type": "code",
      "execution_count": 19,
      "id": "c4e19305",
      "metadata": {
        "id": "c4e19305"
      },
      "outputs": [],
      "source": [
        "df_class_B_over = df_class_B.sample(count_class_M, replace=True)\n",
        "df_over =pd.concat([df_class_M, df_class_B_over], axis=0)\n"
      ]
    },
    {
      "cell_type": "code",
      "execution_count": 20,
      "id": "c6c74306",
      "metadata": {
        "colab": {
          "base_uri": "https://localhost:8080/"
        },
        "id": "c6c74306",
        "outputId": "d129d4d0-2f32-49e2-94d3-2ee944c16fee"
      },
      "outputs": [
        {
          "output_type": "stream",
          "name": "stdout",
          "text": [
            "Diferenia de dimensiónes por tipo de clase generadas: \n",
            "Dimension clase B (antes: sobremuestreo):  (38, 10)\n",
            "Dimension clase B (después: sobremuestreo):  (62, 10)\n"
          ]
        }
      ],
      "source": [
        "print('Diferenia de dimensiónes por tipo de clase generadas: ')\n",
        "print('Dimension clase B (antes: sobremuestreo): ', df_class_B.shape)\n",
        "print('Dimension clase B (después: sobremuestreo): ', df_class_B_over.shape)"
      ]
    },
    {
      "cell_type": "markdown",
      "id": "8f00c086",
      "metadata": {
        "id": "8f00c086"
      },
      "source": [
        "4. Previsualización del nuevo dataset, ya aplicado el sobremuestreo"
      ]
    },
    {
      "cell_type": "code",
      "execution_count": 21,
      "id": "0a03f9a6",
      "metadata": {
        "colab": {
          "base_uri": "https://localhost:8080/",
          "height": 363
        },
        "id": "0a03f9a6",
        "outputId": "ff065ee6-e13e-4a6a-f32f-1263595b83b7"
      },
      "outputs": [
        {
          "output_type": "execute_result",
          "data": {
            "text/plain": [
              "    id diagnosis_result  radius  texture  perimeter  area  smoothness  \\\n",
              "0    1                M      23       12        151   954       0.143   \n",
              "2    3                M      21       27        130  1203       0.125   \n",
              "3    4                M      14       16         78   386       0.070   \n",
              "4    5                M       9       19        135  1297       0.141   \n",
              "6    7                M      16       26        120  1040       0.095   \n",
              "7    8                M      15       18         90   578       0.119   \n",
              "8    9                M      19       24         88   520       0.127   \n",
              "9   10                M      25       11         84   476       0.119   \n",
              "10  11                M      24       21        103   798       0.082   \n",
              "11  12                M      17       15        104   781       0.097   \n",
              "\n",
              "    compactness  symmetry  fractal_dimension  \n",
              "0         0.278     0.242              0.079  \n",
              "2         0.160     0.207              0.060  \n",
              "3         0.284     0.260              0.097  \n",
              "4         0.133     0.181              0.059  \n",
              "6         0.109     0.179              0.057  \n",
              "7         0.165     0.220              0.075  \n",
              "8         0.193     0.235              0.074  \n",
              "9         0.240     0.203              0.082  \n",
              "10        0.067     0.153              0.057  \n",
              "11        0.129     0.184              0.061  "
            ],
            "text/html": [
              "\n",
              "  <div id=\"df-de76069b-bd24-40e1-9e47-180d0e916337\" class=\"colab-df-container\">\n",
              "    <div>\n",
              "<style scoped>\n",
              "    .dataframe tbody tr th:only-of-type {\n",
              "        vertical-align: middle;\n",
              "    }\n",
              "\n",
              "    .dataframe tbody tr th {\n",
              "        vertical-align: top;\n",
              "    }\n",
              "\n",
              "    .dataframe thead th {\n",
              "        text-align: right;\n",
              "    }\n",
              "</style>\n",
              "<table border=\"1\" class=\"dataframe\">\n",
              "  <thead>\n",
              "    <tr style=\"text-align: right;\">\n",
              "      <th></th>\n",
              "      <th>id</th>\n",
              "      <th>diagnosis_result</th>\n",
              "      <th>radius</th>\n",
              "      <th>texture</th>\n",
              "      <th>perimeter</th>\n",
              "      <th>area</th>\n",
              "      <th>smoothness</th>\n",
              "      <th>compactness</th>\n",
              "      <th>symmetry</th>\n",
              "      <th>fractal_dimension</th>\n",
              "    </tr>\n",
              "  </thead>\n",
              "  <tbody>\n",
              "    <tr>\n",
              "      <th>0</th>\n",
              "      <td>1</td>\n",
              "      <td>M</td>\n",
              "      <td>23</td>\n",
              "      <td>12</td>\n",
              "      <td>151</td>\n",
              "      <td>954</td>\n",
              "      <td>0.143</td>\n",
              "      <td>0.278</td>\n",
              "      <td>0.242</td>\n",
              "      <td>0.079</td>\n",
              "    </tr>\n",
              "    <tr>\n",
              "      <th>2</th>\n",
              "      <td>3</td>\n",
              "      <td>M</td>\n",
              "      <td>21</td>\n",
              "      <td>27</td>\n",
              "      <td>130</td>\n",
              "      <td>1203</td>\n",
              "      <td>0.125</td>\n",
              "      <td>0.160</td>\n",
              "      <td>0.207</td>\n",
              "      <td>0.060</td>\n",
              "    </tr>\n",
              "    <tr>\n",
              "      <th>3</th>\n",
              "      <td>4</td>\n",
              "      <td>M</td>\n",
              "      <td>14</td>\n",
              "      <td>16</td>\n",
              "      <td>78</td>\n",
              "      <td>386</td>\n",
              "      <td>0.070</td>\n",
              "      <td>0.284</td>\n",
              "      <td>0.260</td>\n",
              "      <td>0.097</td>\n",
              "    </tr>\n",
              "    <tr>\n",
              "      <th>4</th>\n",
              "      <td>5</td>\n",
              "      <td>M</td>\n",
              "      <td>9</td>\n",
              "      <td>19</td>\n",
              "      <td>135</td>\n",
              "      <td>1297</td>\n",
              "      <td>0.141</td>\n",
              "      <td>0.133</td>\n",
              "      <td>0.181</td>\n",
              "      <td>0.059</td>\n",
              "    </tr>\n",
              "    <tr>\n",
              "      <th>6</th>\n",
              "      <td>7</td>\n",
              "      <td>M</td>\n",
              "      <td>16</td>\n",
              "      <td>26</td>\n",
              "      <td>120</td>\n",
              "      <td>1040</td>\n",
              "      <td>0.095</td>\n",
              "      <td>0.109</td>\n",
              "      <td>0.179</td>\n",
              "      <td>0.057</td>\n",
              "    </tr>\n",
              "    <tr>\n",
              "      <th>7</th>\n",
              "      <td>8</td>\n",
              "      <td>M</td>\n",
              "      <td>15</td>\n",
              "      <td>18</td>\n",
              "      <td>90</td>\n",
              "      <td>578</td>\n",
              "      <td>0.119</td>\n",
              "      <td>0.165</td>\n",
              "      <td>0.220</td>\n",
              "      <td>0.075</td>\n",
              "    </tr>\n",
              "    <tr>\n",
              "      <th>8</th>\n",
              "      <td>9</td>\n",
              "      <td>M</td>\n",
              "      <td>19</td>\n",
              "      <td>24</td>\n",
              "      <td>88</td>\n",
              "      <td>520</td>\n",
              "      <td>0.127</td>\n",
              "      <td>0.193</td>\n",
              "      <td>0.235</td>\n",
              "      <td>0.074</td>\n",
              "    </tr>\n",
              "    <tr>\n",
              "      <th>9</th>\n",
              "      <td>10</td>\n",
              "      <td>M</td>\n",
              "      <td>25</td>\n",
              "      <td>11</td>\n",
              "      <td>84</td>\n",
              "      <td>476</td>\n",
              "      <td>0.119</td>\n",
              "      <td>0.240</td>\n",
              "      <td>0.203</td>\n",
              "      <td>0.082</td>\n",
              "    </tr>\n",
              "    <tr>\n",
              "      <th>10</th>\n",
              "      <td>11</td>\n",
              "      <td>M</td>\n",
              "      <td>24</td>\n",
              "      <td>21</td>\n",
              "      <td>103</td>\n",
              "      <td>798</td>\n",
              "      <td>0.082</td>\n",
              "      <td>0.067</td>\n",
              "      <td>0.153</td>\n",
              "      <td>0.057</td>\n",
              "    </tr>\n",
              "    <tr>\n",
              "      <th>11</th>\n",
              "      <td>12</td>\n",
              "      <td>M</td>\n",
              "      <td>17</td>\n",
              "      <td>15</td>\n",
              "      <td>104</td>\n",
              "      <td>781</td>\n",
              "      <td>0.097</td>\n",
              "      <td>0.129</td>\n",
              "      <td>0.184</td>\n",
              "      <td>0.061</td>\n",
              "    </tr>\n",
              "  </tbody>\n",
              "</table>\n",
              "</div>\n",
              "    <div class=\"colab-df-buttons\">\n",
              "\n",
              "  <div class=\"colab-df-container\">\n",
              "    <button class=\"colab-df-convert\" onclick=\"convertToInteractive('df-de76069b-bd24-40e1-9e47-180d0e916337')\"\n",
              "            title=\"Convert this dataframe to an interactive table.\"\n",
              "            style=\"display:none;\">\n",
              "\n",
              "  <svg xmlns=\"http://www.w3.org/2000/svg\" height=\"24px\" viewBox=\"0 -960 960 960\">\n",
              "    <path d=\"M120-120v-720h720v720H120Zm60-500h600v-160H180v160Zm220 220h160v-160H400v160Zm0 220h160v-160H400v160ZM180-400h160v-160H180v160Zm440 0h160v-160H620v160ZM180-180h160v-160H180v160Zm440 0h160v-160H620v160Z\"/>\n",
              "  </svg>\n",
              "    </button>\n",
              "\n",
              "  <style>\n",
              "    .colab-df-container {\n",
              "      display:flex;\n",
              "      gap: 12px;\n",
              "    }\n",
              "\n",
              "    .colab-df-convert {\n",
              "      background-color: #E8F0FE;\n",
              "      border: none;\n",
              "      border-radius: 50%;\n",
              "      cursor: pointer;\n",
              "      display: none;\n",
              "      fill: #1967D2;\n",
              "      height: 32px;\n",
              "      padding: 0 0 0 0;\n",
              "      width: 32px;\n",
              "    }\n",
              "\n",
              "    .colab-df-convert:hover {\n",
              "      background-color: #E2EBFA;\n",
              "      box-shadow: 0px 1px 2px rgba(60, 64, 67, 0.3), 0px 1px 3px 1px rgba(60, 64, 67, 0.15);\n",
              "      fill: #174EA6;\n",
              "    }\n",
              "\n",
              "    .colab-df-buttons div {\n",
              "      margin-bottom: 4px;\n",
              "    }\n",
              "\n",
              "    [theme=dark] .colab-df-convert {\n",
              "      background-color: #3B4455;\n",
              "      fill: #D2E3FC;\n",
              "    }\n",
              "\n",
              "    [theme=dark] .colab-df-convert:hover {\n",
              "      background-color: #434B5C;\n",
              "      box-shadow: 0px 1px 3px 1px rgba(0, 0, 0, 0.15);\n",
              "      filter: drop-shadow(0px 1px 2px rgba(0, 0, 0, 0.3));\n",
              "      fill: #FFFFFF;\n",
              "    }\n",
              "  </style>\n",
              "\n",
              "    <script>\n",
              "      const buttonEl =\n",
              "        document.querySelector('#df-de76069b-bd24-40e1-9e47-180d0e916337 button.colab-df-convert');\n",
              "      buttonEl.style.display =\n",
              "        google.colab.kernel.accessAllowed ? 'block' : 'none';\n",
              "\n",
              "      async function convertToInteractive(key) {\n",
              "        const element = document.querySelector('#df-de76069b-bd24-40e1-9e47-180d0e916337');\n",
              "        const dataTable =\n",
              "          await google.colab.kernel.invokeFunction('convertToInteractive',\n",
              "                                                    [key], {});\n",
              "        if (!dataTable) return;\n",
              "\n",
              "        const docLinkHtml = 'Like what you see? Visit the ' +\n",
              "          '<a target=\"_blank\" href=https://colab.research.google.com/notebooks/data_table.ipynb>data table notebook</a>'\n",
              "          + ' to learn more about interactive tables.';\n",
              "        element.innerHTML = '';\n",
              "        dataTable['output_type'] = 'display_data';\n",
              "        await google.colab.output.renderOutput(dataTable, element);\n",
              "        const docLink = document.createElement('div');\n",
              "        docLink.innerHTML = docLinkHtml;\n",
              "        element.appendChild(docLink);\n",
              "      }\n",
              "    </script>\n",
              "  </div>\n",
              "\n",
              "\n",
              "<div id=\"df-78ff99aa-c76e-4c3b-a500-ca292b260480\">\n",
              "  <button class=\"colab-df-quickchart\" onclick=\"quickchart('df-78ff99aa-c76e-4c3b-a500-ca292b260480')\"\n",
              "            title=\"Suggest charts\"\n",
              "            style=\"display:none;\">\n",
              "\n",
              "<svg xmlns=\"http://www.w3.org/2000/svg\" height=\"24px\"viewBox=\"0 0 24 24\"\n",
              "     width=\"24px\">\n",
              "    <g>\n",
              "        <path d=\"M19 3H5c-1.1 0-2 .9-2 2v14c0 1.1.9 2 2 2h14c1.1 0 2-.9 2-2V5c0-1.1-.9-2-2-2zM9 17H7v-7h2v7zm4 0h-2V7h2v10zm4 0h-2v-4h2v4z\"/>\n",
              "    </g>\n",
              "</svg>\n",
              "  </button>\n",
              "\n",
              "<style>\n",
              "  .colab-df-quickchart {\n",
              "      --bg-color: #E8F0FE;\n",
              "      --fill-color: #1967D2;\n",
              "      --hover-bg-color: #E2EBFA;\n",
              "      --hover-fill-color: #174EA6;\n",
              "      --disabled-fill-color: #AAA;\n",
              "      --disabled-bg-color: #DDD;\n",
              "  }\n",
              "\n",
              "  [theme=dark] .colab-df-quickchart {\n",
              "      --bg-color: #3B4455;\n",
              "      --fill-color: #D2E3FC;\n",
              "      --hover-bg-color: #434B5C;\n",
              "      --hover-fill-color: #FFFFFF;\n",
              "      --disabled-bg-color: #3B4455;\n",
              "      --disabled-fill-color: #666;\n",
              "  }\n",
              "\n",
              "  .colab-df-quickchart {\n",
              "    background-color: var(--bg-color);\n",
              "    border: none;\n",
              "    border-radius: 50%;\n",
              "    cursor: pointer;\n",
              "    display: none;\n",
              "    fill: var(--fill-color);\n",
              "    height: 32px;\n",
              "    padding: 0;\n",
              "    width: 32px;\n",
              "  }\n",
              "\n",
              "  .colab-df-quickchart:hover {\n",
              "    background-color: var(--hover-bg-color);\n",
              "    box-shadow: 0 1px 2px rgba(60, 64, 67, 0.3), 0 1px 3px 1px rgba(60, 64, 67, 0.15);\n",
              "    fill: var(--button-hover-fill-color);\n",
              "  }\n",
              "\n",
              "  .colab-df-quickchart-complete:disabled,\n",
              "  .colab-df-quickchart-complete:disabled:hover {\n",
              "    background-color: var(--disabled-bg-color);\n",
              "    fill: var(--disabled-fill-color);\n",
              "    box-shadow: none;\n",
              "  }\n",
              "\n",
              "  .colab-df-spinner {\n",
              "    border: 2px solid var(--fill-color);\n",
              "    border-color: transparent;\n",
              "    border-bottom-color: var(--fill-color);\n",
              "    animation:\n",
              "      spin 1s steps(1) infinite;\n",
              "  }\n",
              "\n",
              "  @keyframes spin {\n",
              "    0% {\n",
              "      border-color: transparent;\n",
              "      border-bottom-color: var(--fill-color);\n",
              "      border-left-color: var(--fill-color);\n",
              "    }\n",
              "    20% {\n",
              "      border-color: transparent;\n",
              "      border-left-color: var(--fill-color);\n",
              "      border-top-color: var(--fill-color);\n",
              "    }\n",
              "    30% {\n",
              "      border-color: transparent;\n",
              "      border-left-color: var(--fill-color);\n",
              "      border-top-color: var(--fill-color);\n",
              "      border-right-color: var(--fill-color);\n",
              "    }\n",
              "    40% {\n",
              "      border-color: transparent;\n",
              "      border-right-color: var(--fill-color);\n",
              "      border-top-color: var(--fill-color);\n",
              "    }\n",
              "    60% {\n",
              "      border-color: transparent;\n",
              "      border-right-color: var(--fill-color);\n",
              "    }\n",
              "    80% {\n",
              "      border-color: transparent;\n",
              "      border-right-color: var(--fill-color);\n",
              "      border-bottom-color: var(--fill-color);\n",
              "    }\n",
              "    90% {\n",
              "      border-color: transparent;\n",
              "      border-bottom-color: var(--fill-color);\n",
              "    }\n",
              "  }\n",
              "</style>\n",
              "\n",
              "  <script>\n",
              "    async function quickchart(key) {\n",
              "      const quickchartButtonEl =\n",
              "        document.querySelector('#' + key + ' button');\n",
              "      quickchartButtonEl.disabled = true;  // To prevent multiple clicks.\n",
              "      quickchartButtonEl.classList.add('colab-df-spinner');\n",
              "      try {\n",
              "        const charts = await google.colab.kernel.invokeFunction(\n",
              "            'suggestCharts', [key], {});\n",
              "      } catch (error) {\n",
              "        console.error('Error during call to suggestCharts:', error);\n",
              "      }\n",
              "      quickchartButtonEl.classList.remove('colab-df-spinner');\n",
              "      quickchartButtonEl.classList.add('colab-df-quickchart-complete');\n",
              "    }\n",
              "    (() => {\n",
              "      let quickchartButtonEl =\n",
              "        document.querySelector('#df-78ff99aa-c76e-4c3b-a500-ca292b260480 button');\n",
              "      quickchartButtonEl.style.display =\n",
              "        google.colab.kernel.accessAllowed ? 'block' : 'none';\n",
              "    })();\n",
              "  </script>\n",
              "</div>\n",
              "\n",
              "    </div>\n",
              "  </div>\n"
            ],
            "application/vnd.google.colaboratory.intrinsic+json": {
              "type": "dataframe",
              "variable_name": "df_over",
              "summary": "{\n  \"name\": \"df_over\",\n  \"rows\": 124,\n  \"fields\": [\n    {\n      \"column\": \"id\",\n      \"properties\": {\n        \"dtype\": \"number\",\n        \"std\": 28,\n        \"min\": 1,\n        \"max\": 100,\n        \"num_unique_values\": 92,\n        \"samples\": [\n          54,\n          29,\n          86\n        ],\n        \"semantic_type\": \"\",\n        \"description\": \"\"\n      }\n    },\n    {\n      \"column\": \"diagnosis_result\",\n      \"properties\": {\n        \"dtype\": \"category\",\n        \"num_unique_values\": 2,\n        \"samples\": [\n          \"B\",\n          \"M\"\n        ],\n        \"semantic_type\": \"\",\n        \"description\": \"\"\n      }\n    },\n    {\n      \"column\": \"radius\",\n      \"properties\": {\n        \"dtype\": \"number\",\n        \"std\": 4,\n        \"min\": 9,\n        \"max\": 25,\n        \"num_unique_values\": 16,\n        \"samples\": [\n          23,\n          21\n        ],\n        \"semantic_type\": \"\",\n        \"description\": \"\"\n      }\n    },\n    {\n      \"column\": \"texture\",\n      \"properties\": {\n        \"dtype\": \"number\",\n        \"std\": 5,\n        \"min\": 11,\n        \"max\": 27,\n        \"num_unique_values\": 17,\n        \"samples\": [\n          12,\n          27\n        ],\n        \"semantic_type\": \"\",\n        \"description\": \"\"\n      }\n    },\n    {\n      \"column\": \"perimeter\",\n      \"properties\": {\n        \"dtype\": \"number\",\n        \"std\": 23,\n        \"min\": 52,\n        \"max\": 172,\n        \"num_unique_values\": 50,\n        \"samples\": [\n          108,\n          59\n        ],\n        \"semantic_type\": \"\",\n        \"description\": \"\"\n      }\n    },\n    {\n      \"column\": \"area\",\n      \"properties\": {\n        \"dtype\": \"number\",\n        \"std\": 308,\n        \"min\": 202,\n        \"max\": 1878,\n        \"num_unique_values\": 87,\n        \"samples\": [\n          566,\n          954\n        ],\n        \"semantic_type\": \"\",\n        \"description\": \"\"\n      }\n    },\n    {\n      \"column\": \"smoothness\",\n      \"properties\": {\n        \"dtype\": \"number\",\n        \"std\": 0.012982507547820486,\n        \"min\": 0.07,\n        \"max\": 0.143,\n        \"num_unique_values\": 44,\n        \"samples\": [\n          0.103,\n          0.096\n        ],\n        \"semantic_type\": \"\",\n        \"description\": \"\"\n      }\n    },\n    {\n      \"column\": \"compactness\",\n      \"properties\": {\n        \"dtype\": \"number\",\n        \"std\": 0.0612439472327365,\n        \"min\": 0.038,\n        \"max\": 0.345,\n        \"num_unique_values\": 78,\n        \"samples\": [\n          0.122,\n          0.278\n        ],\n        \"semantic_type\": \"\",\n        \"description\": \"\"\n      }\n    },\n    {\n      \"column\": \"symmetry\",\n      \"properties\": {\n        \"dtype\": \"number\",\n        \"std\": 0.031676406082984214,\n        \"min\": 0.135,\n        \"max\": 0.304,\n        \"num_unique_values\": 62,\n        \"samples\": [\n          0.135,\n          0.194\n        ],\n        \"semantic_type\": \"\",\n        \"description\": \"\"\n      }\n    },\n    {\n      \"column\": \"fractal_dimension\",\n      \"properties\": {\n        \"dtype\": \"number\",\n        \"std\": 0.008267980033652346,\n        \"min\": 0.053,\n        \"max\": 0.097,\n        \"num_unique_values\": 32,\n        \"samples\": [\n          0.058,\n          0.069\n        ],\n        \"semantic_type\": \"\",\n        \"description\": \"\"\n      }\n    }\n  ]\n}"
            }
          },
          "metadata": {},
          "execution_count": 21
        }
      ],
      "source": [
        "df_over.head(10)"
      ]
    },
    {
      "cell_type": "code",
      "execution_count": 22,
      "id": "6ac10fc2",
      "metadata": {
        "colab": {
          "base_uri": "https://localhost:8080/"
        },
        "id": "6ac10fc2",
        "outputId": "4ecb5562-5a5e-469b-8c49-9248f21ab51a"
      },
      "outputs": [
        {
          "output_type": "stream",
          "name": "stdout",
          "text": [
            "Número de clases ahora con sobremuestreo:\n",
            "diagnosis_result\n",
            "M    62\n",
            "B    62\n",
            "Name: count, dtype: int64\n"
          ]
        }
      ],
      "source": [
        "print('Número de clases ahora con sobremuestreo:')\n",
        "print(df_over.diagnosis_result.value_counts())"
      ]
    },
    {
      "cell_type": "markdown",
      "id": "fdd2d9a1",
      "metadata": {
        "id": "fdd2d9a1"
      },
      "source": [
        "5. Visualización gráfica de el conteo de las clases en el nuevo dataset"
      ]
    },
    {
      "cell_type": "code",
      "execution_count": 23,
      "id": "59c9fe7a",
      "metadata": {
        "colab": {
          "base_uri": "https://localhost:8080/",
          "height": 465
        },
        "id": "59c9fe7a",
        "outputId": "60e3e1a7-612b-4824-b17c-9d48312cb216"
      },
      "outputs": [
        {
          "output_type": "execute_result",
          "data": {
            "text/plain": [
              "<Axes: xlabel='diagnosis_result'>"
            ]
          },
          "metadata": {},
          "execution_count": 23
        },
        {
          "output_type": "display_data",
          "data": {
            "text/plain": [
              "<Figure size 640x480 with 1 Axes>"
            ],
            "image/png": "[encoded data removed]"
          },
          "metadata": {}
        }
      ],
      "source": [
        "c = ['black', 'pink']\n",
        "df_over.diagnosis_result.value_counts().plot(kind=\"bar\", color=c)\n",
        "\n"
      ]
    },
    {
      "cell_type": "markdown",
      "id": "0cf39c8e",
      "metadata": {
        "id": "0cf39c8e"
      },
      "source": [
        "6. Separación predictora y predicha de nuestro dataset"
      ]
    },
    {
      "cell_type": "code",
      "execution_count": 24,
      "id": "c8787c60",
      "metadata": {
        "id": "c8787c60"
      },
      "outputs": [],
      "source": [
        "#Variables independientes\n",
        "x_over = df_over.drop('diagnosis_result', axis=1)\n",
        "#Variables dependientes\n",
        "y_over = df_over['diagnosis_result']"
      ]
    },
    {
      "cell_type": "markdown",
      "id": "d5098e25",
      "metadata": {
        "id": "d5098e25"
      },
      "source": [
        "7. Partición de datos: creación y guardado de muestras de entrenamiento"
      ]
    },
    {
      "cell_type": "code",
      "execution_count": 25,
      "id": "ef21c750",
      "metadata": {
        "id": "ef21c750"
      },
      "outputs": [],
      "source": [
        "xover_train, xover_test, yover_train, yover_test = train_test_split(x_over, y_over, test_size=0.2)"
      ]
    },
    {
      "cell_type": "markdown",
      "id": "bffe4685",
      "metadata": {
        "id": "bffe4685"
      },
      "source": [
        "8. Visualización de los tamaños de nuestros conjuntos de entrenamiento y prueba:  xover, yover"
      ]
    },
    {
      "cell_type": "code",
      "execution_count": 26,
      "id": "a2d83d81",
      "metadata": {
        "colab": {
          "base_uri": "https://localhost:8080/"
        },
        "id": "a2d83d81",
        "outputId": "d4f8fce2-366d-408c-ced6-cf152b4651bf"
      },
      "outputs": [
        {
          "output_type": "execute_result",
          "data": {
            "text/plain": [
              "((99, 9), (99,), (25, 9), (25,))"
            ]
          },
          "metadata": {},
          "execution_count": 26
        }
      ],
      "source": [
        "xover_train.shape, yover_train.shape, xover_test.shape, yover_test.shape"
      ]
    },
    {
      "cell_type": "markdown",
      "id": "386e8e7c",
      "metadata": {
        "id": "386e8e7c"
      },
      "source": [
        "9. Creación de nuestro arbol de decisión de clasificación"
      ]
    },
    {
      "cell_type": "code",
      "execution_count": 27,
      "id": "24d01001",
      "metadata": {
        "id": "24d01001"
      },
      "outputs": [],
      "source": [
        "treeover_classification = DecisionTreeClassifier()\n",
        "treeover_model = treeover_classification.fit(xover_train, yover_train)\n",
        "yover_predict = treeover_model.predict(xover_test)"
      ]
    },
    {
      "cell_type": "markdown",
      "id": "c9d1e7ec",
      "metadata": {
        "id": "c9d1e7ec"
      },
      "source": [
        "10. Calculo de clasificación con nuestros datos, después de la aplicación de sobremuetreo"
      ]
    },
    {
      "cell_type": "code",
      "execution_count": 28,
      "id": "72c458c1",
      "metadata": {
        "colab": {
          "base_uri": "https://localhost:8080/"
        },
        "id": "72c458c1",
        "outputId": "299efb6f-d7ab-4825-ae14-8d753c7a4583"
      },
      "outputs": [
        {
          "output_type": "execute_result",
          "data": {
            "text/plain": [
              "0.92"
            ]
          },
          "metadata": {},
          "execution_count": 28
        }
      ],
      "source": [
        "accuracy_score(yover_test, yover_predict)"
      ]
    },
    {
      "cell_type": "code",
      "execution_count": 29,
      "id": "99221cff",
      "metadata": {
        "colab": {
          "base_uri": "https://localhost:8080/"
        },
        "id": "99221cff",
        "outputId": "3d4c0da4-588f-4383-8d50-5a37f11a2e11"
      },
      "outputs": [
        {
          "output_type": "stream",
          "name": "stdout",
          "text": [
            "              precision    recall  f1-score   support\n",
            "\n",
            "           B       0.87      1.00      0.93        13\n",
            "           M       1.00      0.83      0.91        12\n",
            "\n",
            "    accuracy                           0.92        25\n",
            "   macro avg       0.93      0.92      0.92        25\n",
            "weighted avg       0.93      0.92      0.92        25\n",
            "\n"
          ]
        }
      ],
      "source": [
        "print(classification_report(yover_test, yover_predict))"
      ]
    },
    {
      "cell_type": "markdown",
      "id": "27a676bf",
      "metadata": {
        "id": "27a676bf"
      },
      "source": [
        "11. Visualización gráfica de la matriz de confusión"
      ]
    },
    {
      "cell_type": "code",
      "execution_count": 30,
      "id": "daa3c3ed",
      "metadata": {
        "colab": {
          "base_uri": "https://localhost:8080/",
          "height": 543
        },
        "id": "daa3c3ed",
        "outputId": "a2c273d3-3a11-4583-ead0-91871e4491ff"
      },
      "outputs": [
        {
          "output_type": "stream",
          "name": "stderr",
          "text": [
            "<ipython-input-30-a51f57748346>:7: UserWarning: set_ticklabels() should only be used with a fixed number of ticks, i.e. after set_ticks() or using a FixedLocator.\n",
            "  axover.set_xticklabels(['']+labels)\n",
            "<ipython-input-30-a51f57748346>:8: UserWarning: set_ticklabels() should only be used with a fixed number of ticks, i.e. after set_ticks() or using a FixedLocator.\n",
            "  axover.set_yticklabels(['']+labels)\n"
          ]
        },
        {
          "output_type": "display_data",
          "data": {
            "text/plain": [
              "<Figure size 640x480 with 1 Axes>"
            ],
            "image/png": "[encoded data removed]"
          },
          "metadata": {}
        }
      ],
      "source": [
        "confover_mat = confusion_matrix(y_true=yover_test, y_pred=yover_predict)\n",
        "labels = ['Class M', 'Class B']\n",
        "figureover = plt.figure()\n",
        "axover = figureover.add_subplot(111)\n",
        "caxover = axover.matshow(confover_mat, cmap=plt.cm.Blues)\n",
        "figureover.colorbar(cax)\n",
        "axover.set_xticklabels(['']+labels)\n",
        "axover.set_yticklabels(['']+labels)\n",
        "plt.xlabel('Predicted')\n",
        "plt.ylabel('Expected')\n",
        "plt.show()"
      ]
    },
    {
      "cell_type": "markdown",
      "id": "34846c1a",
      "metadata": {
        "id": "34846c1a"
      },
      "source": [
        "## SMOTE"
      ]
    },
    {
      "cell_type": "markdown",
      "id": "7697d0b5",
      "metadata": {
        "id": "7697d0b5"
      },
      "source": [
        "1. Importamos nuestra libreria, para hacer uso de SMOTE"
      ]
    },
    {
      "cell_type": "code",
      "execution_count": 31,
      "id": "e84c3f01",
      "metadata": {
        "id": "e84c3f01"
      },
      "outputs": [],
      "source": [
        "from imblearn.over_sampling import SMOTE as sm"
      ]
    },
    {
      "cell_type": "markdown",
      "id": "f49c05d4",
      "metadata": {
        "id": "f49c05d4"
      },
      "source": [
        "2. Separación predictoras y predichas"
      ]
    },
    {
      "cell_type": "code",
      "execution_count": 32,
      "id": "667da4e6",
      "metadata": {
        "id": "667da4e6"
      },
      "outputs": [],
      "source": [
        "x = df.drop('diagnosis_result', axis=1)\n",
        "y = df['diagnosis_result']"
      ]
    },
    {
      "cell_type": "markdown",
      "id": "bceb629c",
      "metadata": {
        "id": "bceb629c"
      },
      "source": [
        "3. Aplicar estrategia sobre la clase minoritaria: B"
      ]
    },
    {
      "cell_type": "code",
      "execution_count": 33,
      "id": "7dcb1a9d",
      "metadata": {
        "id": "7dcb1a9d"
      },
      "outputs": [],
      "source": [
        "smote = sm(sampling_strategy='minority')\n",
        "x_sm, y_sm = smote.fit_resample(x, y)\n"
      ]
    },
    {
      "cell_type": "markdown",
      "id": "50b3b001",
      "metadata": {
        "id": "50b3b001"
      },
      "source": [
        "4. Separación de las x, y"
      ]
    },
    {
      "cell_type": "code",
      "execution_count": 34,
      "id": "a170dcb5",
      "metadata": {
        "id": "a170dcb5"
      },
      "outputs": [],
      "source": [
        "df_x_sm = pd.DataFrame(data=x_sm, columns=x.columns)\n",
        "df_y_sm = pd.DataFrame(data=y_sm, columns=['diagnosis_result'])"
      ]
    },
    {
      "cell_type": "markdown",
      "id": "3f9d7c01",
      "metadata": {
        "id": "3f9d7c01"
      },
      "source": [
        "5. Union de los df para la obtención de un df balanceado"
      ]
    },
    {
      "cell_type": "code",
      "execution_count": 35,
      "id": "c1b54edb",
      "metadata": {
        "id": "c1b54edb"
      },
      "outputs": [],
      "source": [
        "df_balanceado_sm = pd.concat([df_x_sm, df_y_sm], axis=1)"
      ]
    },
    {
      "cell_type": "markdown",
      "id": "d723900d",
      "metadata": {
        "id": "d723900d"
      },
      "source": [
        "6. Conteo de clases de nuestro df balanceado"
      ]
    },
    {
      "cell_type": "code",
      "execution_count": 36,
      "id": "d72670f0",
      "metadata": {
        "colab": {
          "base_uri": "https://localhost:8080/",
          "height": 178
        },
        "id": "d72670f0",
        "outputId": "ebd3c34d-5465-43d3-814a-924575124a02"
      },
      "outputs": [
        {
          "output_type": "execute_result",
          "data": {
            "text/plain": [
              "diagnosis_result\n",
              "M    62\n",
              "B    62\n",
              "Name: count, dtype: int64"
            ],
            "text/html": [
              "<div>\n",
              "<style scoped>\n",
              "    .dataframe tbody tr th:only-of-type {\n",
              "        vertical-align: middle;\n",
              "    }\n",
              "\n",
              "    .dataframe tbody tr th {\n",
              "        vertical-align: top;\n",
              "    }\n",
              "\n",
              "    .dataframe thead th {\n",
              "        text-align: right;\n",
              "    }\n",
              "</style>\n",
              "<table border=\"1\" class=\"dataframe\">\n",
              "  <thead>\n",
              "    <tr style=\"text-align: right;\">\n",
              "      <th></th>\n",
              "      <th>count</th>\n",
              "    </tr>\n",
              "    <tr>\n",
              "      <th>diagnosis_result</th>\n",
              "      <th></th>\n",
              "    </tr>\n",
              "  </thead>\n",
              "  <tbody>\n",
              "    <tr>\n",
              "      <th>M</th>\n",
              "      <td>62</td>\n",
              "    </tr>\n",
              "    <tr>\n",
              "      <th>B</th>\n",
              "      <td>62</td>\n",
              "    </tr>\n",
              "  </tbody>\n",
              "</table>\n",
              "</div><br><label><b>dtype:</b> int64</label>"
            ]
          },
          "metadata": {},
          "execution_count": 36
        }
      ],
      "source": [
        "df_balanceado_sm.diagnosis_result.value_counts()"
      ]
    },
    {
      "cell_type": "markdown",
      "id": "9d184d11",
      "metadata": {
        "id": "9d184d11"
      },
      "source": [
        "7. Visualización gráfica de las clases en nuestro df balanceado"
      ]
    },
    {
      "cell_type": "code",
      "execution_count": 37,
      "id": "42169f91",
      "metadata": {
        "colab": {
          "base_uri": "https://localhost:8080/",
          "height": 465
        },
        "id": "42169f91",
        "outputId": "ac02858f-9c95-4752-8d1d-084b28ca2ebb"
      },
      "outputs": [
        {
          "output_type": "execute_result",
          "data": {
            "text/plain": [
              "<Axes: xlabel='diagnosis_result'>"
            ]
          },
          "metadata": {},
          "execution_count": 37
        },
        {
          "output_type": "display_data",
          "data": {
            "text/plain": [
              "<Figure size 640x480 with 1 Axes>"
            ],
            "image/png": "[encoded data removed]"
          },
          "metadata": {}
        }
      ],
      "source": [
        "c = ['blue', 'green']\n",
        "df_balanceado_sm.diagnosis_result.value_counts().plot(kind=\"bar\", color=c)"
      ]
    },
    {
      "cell_type": "markdown",
      "id": "e87b101e",
      "metadata": {
        "id": "e87b101e"
      },
      "source": [
        "8. Separación predictoras y predichas"
      ]
    },
    {
      "cell_type": "code",
      "execution_count": 38,
      "id": "cd346cb4",
      "metadata": {
        "id": "cd346cb4"
      },
      "outputs": [],
      "source": [
        "x_balance = df_balanceado_sm.drop('diagnosis_result', axis=1)\n",
        "y_balance = df_balanceado_sm['diagnosis_result']"
      ]
    },
    {
      "cell_type": "markdown",
      "id": "1bac5acd",
      "metadata": {
        "id": "1bac5acd"
      },
      "source": [
        "9. Creación de muetras de entrenamiento y prueba"
      ]
    },
    {
      "cell_type": "code",
      "execution_count": 39,
      "id": "daf232ae",
      "metadata": {
        "id": "daf232ae"
      },
      "outputs": [],
      "source": [
        "xbalance_train, xbalance_test, ybalance_train, ybalance_test = train_test_split(x_balance, y_balance, test_size=.2)\n",
        "\n",
        "tree_balance = DecisionTreeClassifier()\n",
        "\n",
        "tree_model_balance = tree_balance.fit(xbalance_train, ybalance_train)"
      ]
    },
    {
      "cell_type": "markdown",
      "id": "7e7faf43",
      "metadata": {
        "id": "7e7faf43"
      },
      "source": [
        "10. y predicho"
      ]
    },
    {
      "cell_type": "code",
      "execution_count": 40,
      "id": "db3e1dfa",
      "metadata": {
        "id": "db3e1dfa"
      },
      "outputs": [],
      "source": [
        "y_pred_balance = tree_model_balance.predict(xbalance_test)"
      ]
    },
    {
      "cell_type": "markdown",
      "id": "ae7cc34a",
      "metadata": {
        "id": "ae7cc34a"
      },
      "source": [
        "11. Calculo de indicadores de clasificación"
      ]
    },
    {
      "cell_type": "code",
      "execution_count": 41,
      "id": "f4b4479e",
      "metadata": {
        "colab": {
          "base_uri": "https://localhost:8080/"
        },
        "id": "f4b4479e",
        "outputId": "ee6901c8-d69e-4569-887b-8d392e8d9aff"
      },
      "outputs": [
        {
          "output_type": "execute_result",
          "data": {
            "text/plain": [
              "0.84"
            ]
          },
          "metadata": {},
          "execution_count": 41
        }
      ],
      "source": [
        "accuracy_score(ybalance_test, y_pred_balance)"
      ]
    },
    {
      "cell_type": "code",
      "execution_count": 42,
      "id": "b336f714",
      "metadata": {
        "colab": {
          "base_uri": "https://localhost:8080/"
        },
        "id": "b336f714",
        "outputId": "b6f78bba-9fba-45d7-aa47-6cae7322e367"
      },
      "outputs": [
        {
          "output_type": "stream",
          "name": "stdout",
          "text": [
            "              precision    recall  f1-score   support\n",
            "\n",
            "           B       0.88      0.70      0.78        10\n",
            "           M       0.82      0.93      0.88        15\n",
            "\n",
            "    accuracy                           0.84        25\n",
            "   macro avg       0.85      0.82      0.83        25\n",
            "weighted avg       0.84      0.84      0.84        25\n",
            "\n"
          ]
        }
      ],
      "source": [
        "print(classification_report(ybalance_test, y_pred_balance))"
      ]
    }
  ],
  "metadata": {
    "kernelspec": {
      "display_name": "Python 3 (ipykernel)",
      "language": "python",
      "name": "python3"
    },
    "language_info": {
      "codemirror_mode": {
        "name": "ipython",
        "version": 3
      },
      "file_extension": ".py",
      "mimetype": "text/x-python",
      "name": "python",
      "nbconvert_exporter": "python",
      "pygments_lexer": "ipython3",
      "version": "3.8.10"
    },
    "colab": {
      "provenance": []
    }
  },
  "nbformat": 4,
  "nbformat_minor": 5
}